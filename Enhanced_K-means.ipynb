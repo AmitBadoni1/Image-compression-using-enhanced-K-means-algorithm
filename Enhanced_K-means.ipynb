{
 "cells": [
  {
   "cell_type": "code",
   "execution_count": 1,
   "metadata": {},
   "outputs": [],
   "source": [
    "from __future__ import print_function\n",
    "%matplotlib inline\n",
    "import os\n",
    "import numpy as np\n",
    "import matplotlib.pyplot as plt\n",
    "import matplotlib.image as image\n",
    "plt.style.use(\"ggplot\")\n",
    "\n",
    "from skimage import io\n",
    "\n",
    "from ipywidgets import interact, interactive, fixed, interact_manual, IntSlider\n",
    "import ipywidgets as widgets\n",
    "import time"
   ]
  },
  {
   "cell_type": "code",
   "execution_count": 2,
   "metadata": {},
   "outputs": [],
   "source": [
    "def update(assign,img_data,k):\n",
    "    centroids=np.zeros((k,3))\n",
    "    cluster_size=np.zeros(k)\n",
    "    for i in range(img_data.shape[0]):\n",
    "        cluster=int(assign[i])\n",
    "        centroids[cluster]+=img_data[i]\n",
    "        cluster_size[cluster]+=1\n",
    "    for i in range(k):\n",
    "        if(cluster_size[i]==0):\n",
    "            continue\n",
    "        centroids[i]/=cluster_size[i]\n",
    "    return centroids    "
   ]
  },
  {
   "cell_type": "code",
   "execution_count": 3,
   "metadata": {},
   "outputs": [],
   "source": [
    "def assign(centroids,k,img_data,assign_prev,mini_distance):\n",
    "    assig=np.zeros(img_data.shape[0])\n",
    "    mini_distance1=np.zeros(img_data.shape[0])\n",
    "    for i in range(img_data.shape[0]):\n",
    "        if(dist(img_data[i],centroids[int(assign_prev[i])])<mini_distance[i]):\n",
    "            assig[i]=assign_prev[i]\n",
    "            mini_distance1[i]=dist(img_data[i],centroids[int(assign_prev[i])])\n",
    "        \n",
    "        else:\n",
    "            mini= 1000\n",
    "            for j in range(k):\n",
    "                if (dist(img_data[i],centroids[j]) < mini):\n",
    "                    mini=dist(img_data[i],centroids[j])\n",
    "                    mini_distance1[i]=mini\n",
    "                    assig[i]=j             \n",
    "\n",
    "    return assig,mini_distance1          "
   ]
  },
  {
   "cell_type": "code",
   "execution_count": 4,
   "metadata": {},
   "outputs": [],
   "source": [
    "def init_centroids(k):\n",
    "    centroids=np.zeros((k,3))\n",
    "    for i in range(k):\n",
    "        centroids[i]=np.array([np.random.rand(),np.random.rand(),np.random.rand()])\n",
    "    return centroids    "
   ]
  },
  {
   "cell_type": "code",
   "execution_count": 5,
   "metadata": {},
   "outputs": [],
   "source": [
    "def dist(a,b):\n",
    "    di=np.square(a[0]-b[0])+np.square(a[1]-b[1])+np.square(a[2]-b[2])\n",
    "    return np.sqrt(di)"
   ]
  },
  {
   "cell_type": "code",
   "execution_count": 6,
   "metadata": {},
   "outputs": [
    {
     "data": {
      "application/vnd.jupyter.widget-view+json": {
       "model_id": "19ce250c2e3c417b8c1f5d1d641cdaa7",
       "version_major": 2,
       "version_minor": 0
      },
      "text/plain": [
       "interactive(children=(Dropdown(description='image', options=('0-cat.jpg', '1-Dog.jpeg', '2-scenery.jpg', '3-Co…"
      ]
     },
     "metadata": {},
     "output_type": "display_data"
    }
   ],
   "source": [
    "img_dir = 'images/'\n",
    "@interact\n",
    "def compression(image=os.listdir(img_dir), k=IntSlider(min=1,max=256,step=1,value=16,\n",
    "                                                             continuous_update=False,\n",
    "                                                             layout=dict(width='100%'))):\n",
    "    input_img = io.imread(img_dir + image)\n",
    "    start=time.time()\n",
    "    img_data = (input_img / 255.0).reshape(-1, 3)\n",
    "    \n",
    "    centroids=init_centroids(k)\n",
    "    \n",
    "    assign1=np.zeros((img_data.shape[0]))\n",
    "    assign_prev=np.zeros((img_data.shape[0]))\n",
    "    mini_distance=np.zeros((img_data.shape[0]))\n",
    "    \n",
    "    iterations=5\n",
    "    \n",
    "    while iterations!=0:\n",
    "        assign1,mini_distance=assign(centroids,k,img_data,assign_prev,mini_distance)\n",
    "        centroids=update(assign1,img_data,k)\n",
    "        assign_prev=assign1\n",
    "        iterations-=1\n",
    "   \n",
    "    k_colors=np.zeros(img_data.shape)\n",
    "    \n",
    "    for i in range(img_data.shape[0]):\n",
    "        k_colors[i]=centroids[int(assign1[i])]\n",
    "        \n",
    "    k_img = np.reshape(k_colors, (input_img.shape))\n",
    "    \n",
    "    fig, (ax1, ax2) = plt.subplots(1, 2)\n",
    "    fig.set_size_inches(18.5,10.5, forward=True)\n",
    "    fig.suptitle('K-means Image Compression', fontsize=20)\n",
    "    ax1.set_title('Compressed')\n",
    "    ax1.set_xticks([])\n",
    "    ax1.set_yticks([])\n",
    "    ax1.imshow(k_img)\n",
    "    \n",
    "    ax2.set_title('Original (16,777,216 colors)')\n",
    "    ax2.set_xticks([])\n",
    "    ax2.set_yticks([])\n",
    "    ax2.imshow(input_img)\n",
    "    \n",
    "    plt.subplots_adjust(top=0.85)\n",
    "    plt.show()\n",
    "    end=time.time()\n",
    "    print('Time taken by program was {} seconds'.format(end-start))"
   ]
  },
  {
   "cell_type": "code",
   "execution_count": null,
   "metadata": {},
   "outputs": [],
   "source": [
    "\n"
   ]
  }
 ],
 "metadata": {
  "kernelspec": {
   "display_name": "Python 3",
   "language": "python",
   "name": "python3"
  },
  "language_info": {
   "codemirror_mode": {
    "name": "ipython",
    "version": 3
   },
   "file_extension": ".py",
   "mimetype": "text/x-python",
   "name": "python",
   "nbconvert_exporter": "python",
   "pygments_lexer": "ipython3",
   "version": "3.7.6"
  }
 },
 "nbformat": 4,
 "nbformat_minor": 4
}
